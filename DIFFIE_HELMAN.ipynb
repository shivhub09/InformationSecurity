{
  "nbformat": 4,
  "nbformat_minor": 0,
  "metadata": {
    "colab": {
      "provenance": [],
      "authorship_tag": "ABX9TyPxocCzE3cw9g+7Ew2TeS1U",
      "include_colab_link": true
    },
    "kernelspec": {
      "name": "python3",
      "display_name": "Python 3"
    },
    "language_info": {
      "name": "python"
    }
  },
  "cells": [
    {
      "cell_type": "markdown",
      "metadata": {
        "id": "view-in-github",
        "colab_type": "text"
      },
      "source": [
        "<a href=\"https://colab.research.google.com/github/shivhub09/InformationSecurity/blob/main/DIFFIE_HELMAN.ipynb\" target=\"_parent\"><img src=\"https://colab.research.google.com/assets/colab-badge.svg\" alt=\"Open In Colab\"/></a>"
      ]
    },
    {
      "cell_type": "code",
      "execution_count": 1,
      "metadata": {
        "id": "qA05_qJvK2pv"
      },
      "outputs": [],
      "source": [
        "import random"
      ]
    },
    {
      "cell_type": "code",
      "source": [
        "def public_key(p , g , private_key):\n",
        "  public_key = pow(g , private_key)\n",
        "  public_key = public_key % p\n",
        "  return public_key"
      ],
      "metadata": {
        "id": "W_pQibWwMRsT"
      },
      "execution_count": 2,
      "outputs": []
    },
    {
      "cell_type": "code",
      "source": [
        "def shared_key(public_key , private_key, p):\n",
        "  shared_key = pow(public_key, private_key)\n",
        "  shared_key = shared_key % p\n",
        "  return shared_key"
      ],
      "metadata": {
        "id": "Yf-b3Pb_MptK"
      },
      "execution_count": 3,
      "outputs": []
    },
    {
      "cell_type": "code",
      "source": [
        "p = int(input(\"Enter the value fo p : \"))\n",
        "g = int(input(\"Enter the value fo g : \"))"
      ],
      "metadata": {
        "colab": {
          "base_uri": "https://localhost:8080/"
        },
        "id": "QH4VZ75sM1sa",
        "outputId": "bfa7bb7b-260d-48c4-9e7a-09ea09e3c356"
      },
      "execution_count": 4,
      "outputs": [
        {
          "name": "stdout",
          "output_type": "stream",
          "text": [
            "Enter the value fo p : 5\n",
            "Enter the value fo g : 6\n"
          ]
        }
      ]
    },
    {
      "cell_type": "code",
      "source": [
        "alice_private_key = random.randint(1,p-1)\n",
        "alice_public_key = public_key(p , g , alice_private_key)"
      ],
      "metadata": {
        "id": "aavyKyo8M7tu"
      },
      "execution_count": 5,
      "outputs": []
    },
    {
      "cell_type": "code",
      "source": [
        "bob_private_key = random.randint(1,p-1)\n",
        "bob_public_key = public_key(p , g , bob_private_key)"
      ],
      "metadata": {
        "id": "5xmdWbE6NGKD"
      },
      "execution_count": 6,
      "outputs": []
    },
    {
      "cell_type": "code",
      "source": [
        "alice_shared_key = shared_key(bob_public_key , alice_private_key , p)"
      ],
      "metadata": {
        "id": "OE5K0QGRNLyI"
      },
      "execution_count": 8,
      "outputs": []
    },
    {
      "cell_type": "code",
      "source": [
        "bob_shared_key = shared_key(alice_public_key , bob_private_key , p)"
      ],
      "metadata": {
        "id": "85I-2YMUNTL9"
      },
      "execution_count": 9,
      "outputs": []
    }
  ]
}