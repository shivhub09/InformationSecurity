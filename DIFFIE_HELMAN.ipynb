{
  "nbformat": 4,
  "nbformat_minor": 0,
  "metadata": {
    "colab": {
      "provenance": [],
      "authorship_tag": "ABX9TyPdWGGRjc4N7E8Tbxh+xNIV",
      "include_colab_link": true
    },
    "kernelspec": {
      "name": "python3",
      "display_name": "Python 3"
    },
    "language_info": {
      "name": "python"
    }
  },
  "cells": [
    {
      "cell_type": "markdown",
      "metadata": {
        "id": "view-in-github",
        "colab_type": "text"
      },
      "source": [
        "<a href=\"https://colab.research.google.com/github/shivhub09/InformationSecurity/blob/main/DIFFIE_HELMAN.ipynb\" target=\"_parent\"><img src=\"https://colab.research.google.com/assets/colab-badge.svg\" alt=\"Open In Colab\"/></a>"
      ]
    },
    {
      "cell_type": "code",
      "source": [
        "import random\n",
        "\n",
        "def public_key(p , g , private_key):\n",
        "  public_key = pow(g , private_key)\n",
        "  public_key = public_key % p\n",
        "  return public_key\n",
        "\n",
        "def shared_key(public_key , private_key, p):\n",
        "  shared_key = pow(public_key, private_key)\n",
        "  shared_key = shared_key % p\n",
        "  return shared_key\n",
        "\n",
        "p = int(input(\"Enter the value fo p : \"))\n",
        "g = int(input(\"Enter the value fo g : \"))\n",
        "\n",
        "alice_private_key = random.randint(1,p-1)\n",
        "alice_public_key = public_key(p , g , alice_private_key)\n",
        "\n",
        "bob_private_key = random.randint(1,p-1)\n",
        "bob_public_key = public_key(p , g , bob_private_key)\n",
        "\n",
        "alice_shared_key = shared_key(bob_public_key , alice_private_key , p)\n",
        "\n",
        "bob_shared_key = shared_key(alice_public_key , bob_private_key , p)"
      ],
      "metadata": {
        "id": "W_pQibWwMRsT"
      },
      "execution_count": 2,
      "outputs": []
    }
  ]
}