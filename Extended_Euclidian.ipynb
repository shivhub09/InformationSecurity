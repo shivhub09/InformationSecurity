{
  "nbformat": 4,
  "nbformat_minor": 0,
  "metadata": {
    "colab": {
      "provenance": [],
      "authorship_tag": "ABX9TyNZbNXrgBeiAeBaIMO8bLgu",
      "include_colab_link": true
    },
    "kernelspec": {
      "name": "python3",
      "display_name": "Python 3"
    },
    "language_info": {
      "name": "python"
    }
  },
  "cells": [
    {
      "cell_type": "markdown",
      "metadata": {
        "id": "view-in-github",
        "colab_type": "text"
      },
      "source": [
        "<a href=\"https://colab.research.google.com/github/shivhub09/InformationSecurity/blob/main/Extended_Euclidian.ipynb\" target=\"_parent\"><img src=\"https://colab.research.google.com/assets/colab-badge.svg\" alt=\"Open In Colab\"/></a>"
      ]
    },
    {
      "cell_type": "code",
      "execution_count": null,
      "metadata": {
        "id": "kRx7BflJdkHO"
      },
      "outputs": [],
      "source": [
        "def Extended_Euclidian_GCD(a,b):\n",
        "  if a == 0:\n",
        "    return b,0,1\n",
        "  gcd,x1,y1 = Extended_Euclidian_GCD(b%a ,a)\n",
        "  x = y1 - (b//a)*x1\n",
        "  y = x1\n",
        "\n",
        "  return gcd,x,y"
      ]
    }
  ]
}